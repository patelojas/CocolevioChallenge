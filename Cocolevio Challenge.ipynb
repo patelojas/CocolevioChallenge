{
 "cells": [
  {
   "cell_type": "code",
   "execution_count": 131,
   "metadata": {
    "collapsed": true
   },
   "outputs": [],
   "source": [
    "import pandas as pd"
   ]
  },
  {
   "cell_type": "code",
   "execution_count": 132,
   "metadata": {},
   "outputs": [],
   "source": [
    "#data given in the format of [Amount, Price] for each company\n",
    "dictVals = [[1,1],[2, 5],[3, 8],[4, 9],[5,10],[6,17],[7,17],[8, 20],[9, 24],[10,30]]\n",
    "\n",
    "#Company names used as indices\n",
    "indexVals = ['A','B','C','D','E','F','G','H','I','J']\n",
    "\n",
    "#Titles given to the columns\n",
    "columnVals = ['Amount', 'Price']"
   ]
  },
  {
   "cell_type": "code",
   "execution_count": 133,
   "metadata": {},
   "outputs": [],
   "source": [
    "#Wanted to read data from CSV but had trouble formatting it correctly with the index so switched to getting data from \n",
    "#a dictionary\n",
    "df = pd.DataFrame(data = dictVals,index=indexVals,columns=columnVals)\n",
    "\n",
    "#Total column set as the product of the Amount times the Price\n",
    "df['Total'] = df['Amount'] * df['Price']\n"
   ]
  },
  {
   "cell_type": "code",
   "execution_count": 134,
   "metadata": {},
   "outputs": [
    {
     "data": {
      "text/html": [
       "<div>\n",
       "<style scoped>\n",
       "    .dataframe tbody tr th:only-of-type {\n",
       "        vertical-align: middle;\n",
       "    }\n",
       "\n",
       "    .dataframe tbody tr th {\n",
       "        vertical-align: top;\n",
       "    }\n",
       "\n",
       "    .dataframe thead th {\n",
       "        text-align: right;\n",
       "    }\n",
       "</style>\n",
       "<table border=\"1\" class=\"dataframe\">\n",
       "  <thead>\n",
       "    <tr style=\"text-align: right;\">\n",
       "      <th></th>\n",
       "      <th>Amount</th>\n",
       "      <th>Price</th>\n",
       "      <th>Total</th>\n",
       "    </tr>\n",
       "  </thead>\n",
       "  <tbody>\n",
       "    <tr>\n",
       "      <th>J</th>\n",
       "      <td>10</td>\n",
       "      <td>30</td>\n",
       "      <td>300</td>\n",
       "    </tr>\n",
       "    <tr>\n",
       "      <th>I</th>\n",
       "      <td>9</td>\n",
       "      <td>24</td>\n",
       "      <td>216</td>\n",
       "    </tr>\n",
       "    <tr>\n",
       "      <th>H</th>\n",
       "      <td>8</td>\n",
       "      <td>20</td>\n",
       "      <td>160</td>\n",
       "    </tr>\n",
       "    <tr>\n",
       "      <th>G</th>\n",
       "      <td>7</td>\n",
       "      <td>17</td>\n",
       "      <td>119</td>\n",
       "    </tr>\n",
       "    <tr>\n",
       "      <th>F</th>\n",
       "      <td>6</td>\n",
       "      <td>17</td>\n",
       "      <td>102</td>\n",
       "    </tr>\n",
       "    <tr>\n",
       "      <th>E</th>\n",
       "      <td>5</td>\n",
       "      <td>10</td>\n",
       "      <td>50</td>\n",
       "    </tr>\n",
       "    <tr>\n",
       "      <th>D</th>\n",
       "      <td>4</td>\n",
       "      <td>9</td>\n",
       "      <td>36</td>\n",
       "    </tr>\n",
       "    <tr>\n",
       "      <th>C</th>\n",
       "      <td>3</td>\n",
       "      <td>8</td>\n",
       "      <td>24</td>\n",
       "    </tr>\n",
       "    <tr>\n",
       "      <th>B</th>\n",
       "      <td>2</td>\n",
       "      <td>5</td>\n",
       "      <td>10</td>\n",
       "    </tr>\n",
       "    <tr>\n",
       "      <th>A</th>\n",
       "      <td>1</td>\n",
       "      <td>1</td>\n",
       "      <td>1</td>\n",
       "    </tr>\n",
       "  </tbody>\n",
       "</table>\n",
       "</div>"
      ],
      "text/plain": [
       "   Amount  Price  Total\n",
       "J      10     30    300\n",
       "I       9     24    216\n",
       "H       8     20    160\n",
       "G       7     17    119\n",
       "F       6     17    102\n",
       "E       5     10     50\n",
       "D       4      9     36\n",
       "C       3      8     24\n",
       "B       2      5     10\n",
       "A       1      1      1"
      ]
     },
     "execution_count": 134,
     "metadata": {},
     "output_type": "execute_result"
    }
   ],
   "source": [
    "df.sort_values(by='Total', ascending=False, inplace=True)\n",
    "df"
   ]
  },
  {
   "cell_type": "code",
   "execution_count": 135,
   "metadata": {},
   "outputs": [],
   "source": [
    "def check_availability(Amount, inventory):\n",
    "    return Amount <= inventory\n",
    "\n",
    "def max_profit():\n",
    "    #random number selected to represent the inventory of the vendor\n",
    "    inventory = 4\n",
    "    customer_list = []\n",
    "    gross_income = 0\n",
    "    for index,row in df.iterrows():\n",
    "        if(check_availability(row['Amount'],inventory)):\n",
    "            customer_list.append(index)\n",
    "            gross_income += row['Total']\n",
    "            inventory -= row['Amount']\n",
    "        if(inventory == 0):\n",
    "            break\n",
    "    print(\"List of customers:\", customer_list)\n",
    "    print(\"Income is:\", gross_income)\n",
    "    print(\"How much inventory is left:\", inventory)"
   ]
  },
  {
   "cell_type": "code",
   "execution_count": 136,
   "metadata": {},
   "outputs": [
    {
     "name": "stdout",
     "output_type": "stream",
     "text": [
      "List of customers: ['D']\n",
      "Income is: 36\n",
      "How much inventory is left: 0\n"
     ]
    }
   ],
   "source": [
    "max_profit()"
   ]
  }
 ],
 "metadata": {
  "kernelspec": {
   "display_name": "Python 3",
   "language": "python",
   "name": "python3"
  },
  "language_info": {
   "codemirror_mode": {
    "name": "ipython",
    "version": 3
   },
   "file_extension": ".py",
   "mimetype": "text/x-python",
   "name": "python",
   "nbconvert_exporter": "python",
   "pygments_lexer": "ipython3",
   "version": "3.6.3"
  }
 },
 "nbformat": 4,
 "nbformat_minor": 2
}
