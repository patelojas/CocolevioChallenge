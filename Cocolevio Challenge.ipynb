{
 "cells": [
  {
   "cell_type": "code",
   "execution_count": 72,
   "metadata": {
    "collapsed": true
   },
   "outputs": [],
   "source": [
    "import pandas as pd\n",
    "import itertools as it\n",
    "import numpy as np"
   ]
  },
  {
   "cell_type": "code",
   "execution_count": 4,
   "metadata": {
    "collapsed": true
   },
   "outputs": [],
   "source": [
    "#data given in the format of [Amount, Price] for each company\n",
    "dictVals = [[1,1],[2, 5],[3, 8],[4, 9],[5,10],[6,17],[7,17],[8, 20],[9, 24],[10,30]]\n",
    "\n",
    "#Company names used as indices\n",
    "indexVals = ['A','B','C','D','E','F','G','H','I','J']\n",
    "\n",
    "#Titles given to the columns\n",
    "columnVals = ['Amount', 'Price']"
   ]
  },
  {
   "cell_type": "code",
   "execution_count": 107,
   "metadata": {},
   "outputs": [],
   "source": [
    "#Wanted to read data from CSV but had trouble formatting it correctly with the index so switched to getting data from \n",
    "#a dictionary\n",
    "df = pd.DataFrame(data = dictVals,index=indexVals,columns=columnVals)\n",
    "\n",
    "#Total column set as the product of the Amount times the Price\n",
    "#df['Total'] = df['Amount'] * df['Price']\n",
    "df['Per Unit'] = df['Amount'] / df['Price']\n",
    "\n"
   ]
  },
  {
   "cell_type": "code",
   "execution_count": 108,
   "metadata": {},
   "outputs": [
    {
     "data": {
      "text/html": [
       "<div>\n",
       "<style scoped>\n",
       "    .dataframe tbody tr th:only-of-type {\n",
       "        vertical-align: middle;\n",
       "    }\n",
       "\n",
       "    .dataframe tbody tr th {\n",
       "        vertical-align: top;\n",
       "    }\n",
       "\n",
       "    .dataframe thead th {\n",
       "        text-align: right;\n",
       "    }\n",
       "</style>\n",
       "<table border=\"1\" class=\"dataframe\">\n",
       "  <thead>\n",
       "    <tr style=\"text-align: right;\">\n",
       "      <th></th>\n",
       "      <th>Amount</th>\n",
       "      <th>Price</th>\n",
       "      <th>Per Unit</th>\n",
       "    </tr>\n",
       "  </thead>\n",
       "  <tbody>\n",
       "    <tr>\n",
       "      <th>J</th>\n",
       "      <td>10</td>\n",
       "      <td>30</td>\n",
       "      <td>0.333333</td>\n",
       "    </tr>\n",
       "    <tr>\n",
       "      <th>I</th>\n",
       "      <td>9</td>\n",
       "      <td>24</td>\n",
       "      <td>0.375000</td>\n",
       "    </tr>\n",
       "    <tr>\n",
       "      <th>H</th>\n",
       "      <td>8</td>\n",
       "      <td>20</td>\n",
       "      <td>0.400000</td>\n",
       "    </tr>\n",
       "    <tr>\n",
       "      <th>F</th>\n",
       "      <td>6</td>\n",
       "      <td>17</td>\n",
       "      <td>0.352941</td>\n",
       "    </tr>\n",
       "    <tr>\n",
       "      <th>G</th>\n",
       "      <td>7</td>\n",
       "      <td>17</td>\n",
       "      <td>0.411765</td>\n",
       "    </tr>\n",
       "    <tr>\n",
       "      <th>E</th>\n",
       "      <td>5</td>\n",
       "      <td>10</td>\n",
       "      <td>0.500000</td>\n",
       "    </tr>\n",
       "    <tr>\n",
       "      <th>D</th>\n",
       "      <td>4</td>\n",
       "      <td>9</td>\n",
       "      <td>0.444444</td>\n",
       "    </tr>\n",
       "    <tr>\n",
       "      <th>C</th>\n",
       "      <td>3</td>\n",
       "      <td>8</td>\n",
       "      <td>0.375000</td>\n",
       "    </tr>\n",
       "    <tr>\n",
       "      <th>B</th>\n",
       "      <td>2</td>\n",
       "      <td>5</td>\n",
       "      <td>0.400000</td>\n",
       "    </tr>\n",
       "    <tr>\n",
       "      <th>A</th>\n",
       "      <td>1</td>\n",
       "      <td>1</td>\n",
       "      <td>1.000000</td>\n",
       "    </tr>\n",
       "  </tbody>\n",
       "</table>\n",
       "</div>"
      ],
      "text/plain": [
       "   Amount  Price  Per Unit\n",
       "J      10     30  0.333333\n",
       "I       9     24  0.375000\n",
       "H       8     20  0.400000\n",
       "F       6     17  0.352941\n",
       "G       7     17  0.411765\n",
       "E       5     10  0.500000\n",
       "D       4      9  0.444444\n",
       "C       3      8  0.375000\n",
       "B       2      5  0.400000\n",
       "A       1      1  1.000000"
      ]
     },
     "execution_count": 108,
     "metadata": {},
     "output_type": "execute_result"
    }
   ],
   "source": [
    "df.sort_values(by='Price', ascending=False, inplace=True)\n",
    "df"
   ]
  },
  {
   "cell_type": "code",
   "execution_count": 45,
   "metadata": {},
   "outputs": [],
   "source": [
    "def check_availability(Amount, inventory):\n",
    "    return Amount <= inventory\n",
    "\n",
    "def max_profit():\n",
    "    #random number selected to represent the inventory of the vendor\n",
    "    inventory = 25\n",
    "    customer_list = []\n",
    "    gross_income = 0\n",
    "    for index,row in df.iterrows():\n",
    "        if(check_availability(row['Amount'],inventory)):\n",
    "            customer_list.append(index)\n",
    "            gross_income += row['Price']\n",
    "            inventory -= row['Amount']\n",
    "        if(inventory == 0):\n",
    "            break\n",
    "    print(\"List of customers:\", customer_list)\n",
    "    print(\"Income is:\", gross_income)\n",
    "    print(\"How much inventory is left:\", inventory)"
   ]
  },
  {
   "cell_type": "code",
   "execution_count": 23,
   "metadata": {},
   "outputs": [
    {
     "name": "stdout",
     "output_type": "stream",
     "text": [
      "List of customers: ['J', 'I', 'F']\n",
      "Income is: 71.0\n",
      "How much inventory is left: 0.0\n"
     ]
    }
   ],
   "source": [
    "max_profit()"
   ]
  },
  {
   "cell_type": "code",
   "execution_count": 121,
   "metadata": {},
   "outputs": [],
   "source": [
    "inventory = 7\n",
    "companies = df.index\n",
    "amounts = df['Amount']\n",
    "prices = df['Price']\n",
    "adict = dict(zip(amounts,prices))\n",
    "dictComps = dict(zip(amounts, companies))\n",
    "listVals = [[],[]]\n",
    "for L in range(0, len(amounts)+1):\n",
    "  for subset in it.combinations(amounts, L):\n",
    "    if sum(subset) == inventory:\n",
    "        #print (subset)\n",
    "        listVals[0].append(subset)\n",
    "        income = 0\n",
    "        for x in subset:\n",
    "            income += adict[x]\n",
    "        listVals[1].append(income)\n",
    "        \n"
   ]
  },
  {
   "cell_type": "code",
   "execution_count": 122,
   "metadata": {},
   "outputs": [
    {
     "data": {
      "text/plain": [
       "(6, 1)"
      ]
     },
     "execution_count": 122,
     "metadata": {},
     "output_type": "execute_result"
    }
   ],
   "source": [
    "ind = listVals[1].index(max(listVals[1]))\n",
    "#listVals[0][ind]"
   ]
  },
  {
   "cell_type": "code",
   "execution_count": 131,
   "metadata": {},
   "outputs": [
    {
     "name": "stdout",
     "output_type": "stream",
     "text": [
      "Companies to sell to:\n",
      "F\n",
      "A\n",
      "\n",
      "Income $ 18\n"
     ]
    }
   ],
   "source": [
    "print(\"Companies to sell to:\")\n",
    "for x in listVals[0][ind]:\n",
    "    print(dictComps[x])\n",
    "\n",
    "print(\"\\nIncome $\",max(listVals[1]))"
   ]
  }
 ],
 "metadata": {
  "kernelspec": {
   "display_name": "Python 3",
   "language": "python",
   "name": "python3"
  },
  "language_info": {
   "codemirror_mode": {
    "name": "ipython",
    "version": 3
   },
   "file_extension": ".py",
   "mimetype": "text/x-python",
   "name": "python",
   "nbconvert_exporter": "python",
   "pygments_lexer": "ipython3",
   "version": "3.6.3"
  }
 },
 "nbformat": 4,
 "nbformat_minor": 2
}
